{
 "cells": [
  {
   "cell_type": "code",
   "execution_count": 1,
   "id": "1226c065-8697-47d1-a79e-3b13d35c7d25",
   "metadata": {},
   "outputs": [],
   "source": [
    "import sys"
   ]
  },
  {
   "cell_type": "code",
   "execution_count": 2,
   "id": "d379309d-8177-4854-b6e4-159a53cc767b",
   "metadata": {},
   "outputs": [
    {
     "name": "stdout",
     "output_type": "stream",
     "text": [
      "Requirement already satisfied: numpy in /home/fadelfirmansyah/.local/lib/python3.8/site-packages (1.20.2)\n",
      "Requirement already satisfied: matplotlib in /home/fadelfirmansyah/.local/lib/python3.8/site-packages (3.4.1)\n",
      "Requirement already satisfied: pandas in /home/fadelfirmansyah/.local/lib/python3.8/site-packages (1.2.3)\n",
      "Requirement already satisfied: python-dateutil>=2.7 in /home/fadelfirmansyah/.local/lib/python3.8/site-packages (from matplotlib) (2.8.1)\n",
      "Requirement already satisfied: pillow>=6.2.0 in /home/fadelfirmansyah/.local/lib/python3.8/site-packages (from matplotlib) (8.2.0)\n",
      "Requirement already satisfied: cycler>=0.10 in /home/fadelfirmansyah/.local/lib/python3.8/site-packages (from matplotlib) (0.10.0)\n",
      "Requirement already satisfied: kiwisolver>=1.0.1 in /home/fadelfirmansyah/.local/lib/python3.8/site-packages (from matplotlib) (1.3.1)\n",
      "Requirement already satisfied: pyparsing>=2.2.1 in /home/fadelfirmansyah/.local/lib/python3.8/site-packages (from matplotlib) (2.4.7)\n",
      "Requirement already satisfied: pytz>=2017.3 in /usr/lib/python3/dist-packages (from pandas) (2019.3)\n",
      "Requirement already satisfied: six>=1.5 in /usr/lib/python3/dist-packages (from python-dateutil>=2.7->matplotlib) (1.14.0)\n"
     ]
    }
   ],
   "source": [
    "!{sys.executable} -m pip install numpy matplotlib pandas"
   ]
  },
  {
   "cell_type": "code",
   "execution_count": 3,
   "id": "94e08468-6194-4c76-af8f-849f7947e0a3",
   "metadata": {},
   "outputs": [
    {
     "name": "stdout",
     "output_type": "stream",
     "text": [
      "Requirement already satisfied: mlxtend in /home/fadelfirmansyah/.local/lib/python3.8/site-packages (0.18.0)\n",
      "Requirement already satisfied: joblib>=0.13.2 in /home/fadelfirmansyah/.local/lib/python3.8/site-packages (from mlxtend) (1.0.1)\n",
      "Requirement already satisfied: matplotlib>=3.0.0 in /home/fadelfirmansyah/.local/lib/python3.8/site-packages (from mlxtend) (3.4.1)\n",
      "Requirement already satisfied: scikit-learn>=0.20.3 in /home/fadelfirmansyah/.local/lib/python3.8/site-packages (from mlxtend) (0.24.1)\n",
      "Requirement already satisfied: numpy>=1.16.2 in /home/fadelfirmansyah/.local/lib/python3.8/site-packages (from mlxtend) (1.20.2)\n",
      "Requirement already satisfied: pandas>=0.24.2 in /home/fadelfirmansyah/.local/lib/python3.8/site-packages (from mlxtend) (1.2.3)\n",
      "Requirement already satisfied: setuptools in /usr/lib/python3/dist-packages (from mlxtend) (45.2.0)\n",
      "Requirement already satisfied: scipy>=1.2.1 in /home/fadelfirmansyah/.local/lib/python3.8/site-packages (from mlxtend) (1.6.2)\n",
      "Requirement already satisfied: kiwisolver>=1.0.1 in /home/fadelfirmansyah/.local/lib/python3.8/site-packages (from matplotlib>=3.0.0->mlxtend) (1.3.1)\n",
      "Requirement already satisfied: pyparsing>=2.2.1 in /home/fadelfirmansyah/.local/lib/python3.8/site-packages (from matplotlib>=3.0.0->mlxtend) (2.4.7)\n",
      "Requirement already satisfied: cycler>=0.10 in /home/fadelfirmansyah/.local/lib/python3.8/site-packages (from matplotlib>=3.0.0->mlxtend) (0.10.0)\n",
      "Requirement already satisfied: pillow>=6.2.0 in /home/fadelfirmansyah/.local/lib/python3.8/site-packages (from matplotlib>=3.0.0->mlxtend) (8.2.0)\n",
      "Requirement already satisfied: python-dateutil>=2.7 in /home/fadelfirmansyah/.local/lib/python3.8/site-packages (from matplotlib>=3.0.0->mlxtend) (2.8.1)\n",
      "Requirement already satisfied: threadpoolctl>=2.0.0 in /home/fadelfirmansyah/.local/lib/python3.8/site-packages (from scikit-learn>=0.20.3->mlxtend) (2.1.0)\n",
      "Requirement already satisfied: pytz>=2017.3 in /usr/lib/python3/dist-packages (from pandas>=0.24.2->mlxtend) (2019.3)\n",
      "Requirement already satisfied: six in /usr/lib/python3/dist-packages (from cycler>=0.10->matplotlib>=3.0.0->mlxtend) (1.14.0)\n"
     ]
    }
   ],
   "source": [
    "!{sys.executable} -m pip install mlxtend"
   ]
  },
  {
   "cell_type": "code",
   "execution_count": 4,
   "id": "9d69a7f0-a2e8-486f-b204-6a713d5c87fc",
   "metadata": {},
   "outputs": [],
   "source": [
    "import numpy as np\n",
    "import matplotlib.pyplot as plt\n",
    "import pandas as pd"
   ]
  },
  {
   "cell_type": "code",
   "execution_count": 29,
   "id": "56fdfcef-8439-47e5-8584-39b98c120d43",
   "metadata": {},
   "outputs": [],
   "source": [
    "from mlxtend.preprocessing import TransactionEncoder\n",
    "from mlxtend.frequent_patterns import apriori, fpmax, fpgrowth\n",
    "from mlxtend.frequent_patterns import association_rules"
   ]
  },
  {
   "cell_type": "code",
   "execution_count": 30,
   "id": "1b2cb312-5b5c-4841-8767-d8d6f475dcfc",
   "metadata": {},
   "outputs": [],
   "source": [
    "df = pd.read_csv('./lumos1400.csv', header=None, dtype=None)"
   ]
  },
  {
   "cell_type": "code",
   "execution_count": 31,
   "id": "aeb48a7f-1375-4e07-8b80-594efedcf258",
   "metadata": {},
   "outputs": [],
   "source": [
    "df = df.replace(np.nan, '')"
   ]
  },
  {
   "cell_type": "code",
   "execution_count": 32,
   "id": "75817f17-aec3-4a2f-974b-02dcfa7fa410",
   "metadata": {},
   "outputs": [],
   "source": [
    "records = []\n",
    "for i in range(0, 1422):\n",
    "    records.append([str(df.values[i,j]) for j in range(0, 7)])"
   ]
  },
  {
   "cell_type": "code",
   "execution_count": 33,
   "id": "7d255ce2-15cc-4b52-85db-9b7b454f8291",
   "metadata": {},
   "outputs": [],
   "source": [
    "records = list(filter(None,[list(filter(None,l)) for l in records]))"
   ]
  },
  {
   "cell_type": "code",
   "execution_count": 34,
   "id": "243ebcbc-fca7-4279-a78f-034bbd597b69",
   "metadata": {},
   "outputs": [],
   "source": [
    "te = TransactionEncoder()"
   ]
  },
  {
   "cell_type": "code",
   "execution_count": 35,
   "id": "ef9ca0bf-756a-4bfe-89c5-f6e4e9fef515",
   "metadata": {},
   "outputs": [],
   "source": [
    "te_ary = te.fit(records).transform(records)"
   ]
  },
  {
   "cell_type": "code",
   "execution_count": 39,
   "id": "82fc6ea9-c1b0-454e-ae72-8418804e2c4f",
   "metadata": {},
   "outputs": [],
   "source": [
    "frame = pd.DataFrame(te_ary, columns=te.columns_)"
   ]
  },
  {
   "cell_type": "code",
   "execution_count": 46,
   "id": "f9a5d9b6-06e0-44f8-a7d1-1a2a7cf13120",
   "metadata": {},
   "outputs": [
    {
     "data": {
      "text/html": [
       "<div>\n",
       "<style scoped>\n",
       "    .dataframe tbody tr th:only-of-type {\n",
       "        vertical-align: middle;\n",
       "    }\n",
       "\n",
       "    .dataframe tbody tr th {\n",
       "        vertical-align: top;\n",
       "    }\n",
       "\n",
       "    .dataframe thead th {\n",
       "        text-align: right;\n",
       "    }\n",
       "</style>\n",
       "<table border=\"1\" class=\"dataframe\">\n",
       "  <thead>\n",
       "    <tr style=\"text-align: right;\">\n",
       "      <th></th>\n",
       "      <th>antecedents</th>\n",
       "      <th>consequents</th>\n",
       "      <th>antecedent support</th>\n",
       "      <th>consequent support</th>\n",
       "      <th>support</th>\n",
       "      <th>confidence</th>\n",
       "      <th>lift</th>\n",
       "      <th>leverage</th>\n",
       "      <th>conviction</th>\n",
       "    </tr>\n",
       "  </thead>\n",
       "  <tbody>\n",
       "    <tr>\n",
       "      <th>0</th>\n",
       "      <td>(BROWN SUGAR BOBA MILK TEA)</td>\n",
       "      <td>(LUMOS KOPI SUSU SIGNATURE)</td>\n",
       "      <td>0.014768</td>\n",
       "      <td>0.522504</td>\n",
       "      <td>0.007736</td>\n",
       "      <td>0.52381</td>\n",
       "      <td>1.002500</td>\n",
       "      <td>0.000019</td>\n",
       "      <td>1.002743</td>\n",
       "    </tr>\n",
       "    <tr>\n",
       "      <th>1</th>\n",
       "      <td>(ES KOPI PANDAN)</td>\n",
       "      <td>(LUMOS KOPI SUSU SIGNATURE)</td>\n",
       "      <td>0.011252</td>\n",
       "      <td>0.522504</td>\n",
       "      <td>0.007032</td>\n",
       "      <td>0.62500</td>\n",
       "      <td>1.196164</td>\n",
       "      <td>0.001153</td>\n",
       "      <td>1.273324</td>\n",
       "    </tr>\n",
       "    <tr>\n",
       "      <th>2</th>\n",
       "      <td>(ESPRESSO)</td>\n",
       "      <td>(LUMOS KOPI SUSU SIGNATURE)</td>\n",
       "      <td>0.015471</td>\n",
       "      <td>0.522504</td>\n",
       "      <td>0.007736</td>\n",
       "      <td>0.50000</td>\n",
       "      <td>0.956931</td>\n",
       "      <td>-0.000348</td>\n",
       "      <td>0.954993</td>\n",
       "    </tr>\n",
       "  </tbody>\n",
       "</table>\n",
       "</div>"
      ],
      "text/plain": [
       "                   antecedents                  consequents  \\\n",
       "0  (BROWN SUGAR BOBA MILK TEA)  (LUMOS KOPI SUSU SIGNATURE)   \n",
       "1             (ES KOPI PANDAN)  (LUMOS KOPI SUSU SIGNATURE)   \n",
       "2                   (ESPRESSO)  (LUMOS KOPI SUSU SIGNATURE)   \n",
       "\n",
       "   antecedent support  consequent support   support  confidence      lift  \\\n",
       "0            0.014768            0.522504  0.007736     0.52381  1.002500   \n",
       "1            0.011252            0.522504  0.007032     0.62500  1.196164   \n",
       "2            0.015471            0.522504  0.007736     0.50000  0.956931   \n",
       "\n",
       "   leverage  conviction  \n",
       "0  0.000019    1.002743  \n",
       "1  0.001153    1.273324  \n",
       "2 -0.000348    0.954993  "
      ]
     },
     "execution_count": 46,
     "metadata": {},
     "output_type": "execute_result"
    }
   ],
   "source": [
    "item = apriori(frame, min_support=0.007, use_colnames=True)\n",
    "association_rules(item, metric=\"confidence\", min_threshold=0.50)"
   ]
  },
  {
   "cell_type": "code",
   "execution_count": null,
   "id": "cc5dec40-03fe-4c4c-8467-3183c6239137",
   "metadata": {},
   "outputs": [],
   "source": []
  }
 ],
 "metadata": {
  "kernelspec": {
   "display_name": "Python 3",
   "language": "python",
   "name": "python3"
  },
  "language_info": {
   "codemirror_mode": {
    "name": "ipython",
    "version": 3
   },
   "file_extension": ".py",
   "mimetype": "text/x-python",
   "name": "python",
   "nbconvert_exporter": "python",
   "pygments_lexer": "ipython3",
   "version": "3.8.5"
  }
 },
 "nbformat": 4,
 "nbformat_minor": 5
}
