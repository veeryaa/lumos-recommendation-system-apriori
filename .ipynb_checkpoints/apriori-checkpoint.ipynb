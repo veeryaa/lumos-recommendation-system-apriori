{
 "cells": [
  {
   "cell_type": "code",
   "execution_count": 1,
   "id": "1226c065-8697-47d1-a79e-3b13d35c7d25",
   "metadata": {},
   "outputs": [],
   "source": [
    "import sys"
   ]
  },
  {
   "cell_type": "code",
   "execution_count": 6,
   "id": "d379309d-8177-4854-b6e4-159a53cc767b",
   "metadata": {},
   "outputs": [
    {
     "name": "stdout",
     "output_type": "stream",
     "text": [
      "Collecting numpy\n",
      "  Using cached numpy-1.20.2-cp38-cp38-manylinux2010_x86_64.whl (15.4 MB)\n",
      "Collecting matplotlib\n",
      "  Using cached matplotlib-3.4.1-cp38-cp38-manylinux1_x86_64.whl (10.3 MB)\n",
      "Collecting pandas\n",
      "  Downloading pandas-1.2.3-cp38-cp38-manylinux1_x86_64.whl (9.7 MB)\n",
      "\u001b[K     |████████████████████████████████| 9.7 MB 3.7 MB/s eta 0:00:01     |████████████████████████▏       | 7.3 MB 4.2 MB/s eta 0:00:01\n",
      "\u001b[?25hRequirement already satisfied: pyparsing>=2.2.1 in /home/fadelfirmansyah/.local/lib/python3.8/site-packages (from matplotlib) (2.4.7)\n",
      "Collecting cycler>=0.10\n",
      "  Downloading cycler-0.10.0-py2.py3-none-any.whl (6.5 kB)\n",
      "Collecting pillow>=6.2.0\n",
      "  Downloading Pillow-8.2.0-cp38-cp38-manylinux1_x86_64.whl (3.0 MB)\n",
      "\u001b[K     |████████████████████████████████| 3.0 MB 5.4 MB/s eta 0:00:01\n",
      "\u001b[?25hCollecting kiwisolver>=1.0.1\n",
      "  Downloading kiwisolver-1.3.1-cp38-cp38-manylinux1_x86_64.whl (1.2 MB)\n",
      "\u001b[K     |████████████████████████████████| 1.2 MB 5.4 MB/s eta 0:00:01\n",
      "\u001b[?25hRequirement already satisfied: python-dateutil>=2.7 in /home/fadelfirmansyah/.local/lib/python3.8/site-packages (from matplotlib) (2.8.1)\n",
      "Requirement already satisfied: pytz>=2017.3 in /usr/lib/python3/dist-packages (from pandas) (2019.3)\n",
      "Requirement already satisfied: six in /usr/lib/python3/dist-packages (from cycler>=0.10->matplotlib) (1.14.0)\n",
      "Installing collected packages: numpy, cycler, pillow, kiwisolver, matplotlib, pandas\n",
      "Successfully installed cycler-0.10.0 kiwisolver-1.3.1 matplotlib-3.4.1 numpy-1.20.2 pandas-1.2.3 pillow-8.2.0\n"
     ]
    }
   ],
   "source": [
    "!{sys.executable} -m pip install numpy matplotlib pandas"
   ]
  },
  {
   "cell_type": "code",
   "execution_count": 8,
   "id": "94e08468-6194-4c76-af8f-849f7947e0a3",
   "metadata": {},
   "outputs": [
    {
     "name": "stdout",
     "output_type": "stream",
     "text": [
      "Requirement already satisfied: mlxtend in /home/fadelfirmansyah/.local/lib/python3.8/site-packages (0.18.0)\n",
      "Requirement already satisfied: setuptools in /usr/lib/python3/dist-packages (from mlxtend) (45.2.0)\n",
      "Requirement already satisfied: joblib>=0.13.2 in /home/fadelfirmansyah/.local/lib/python3.8/site-packages (from mlxtend) (1.0.1)\n",
      "Requirement already satisfied: scipy>=1.2.1 in /home/fadelfirmansyah/.local/lib/python3.8/site-packages (from mlxtend) (1.6.2)\n",
      "Requirement already satisfied: numpy>=1.16.2 in /home/fadelfirmansyah/.local/lib/python3.8/site-packages (from mlxtend) (1.20.2)\n",
      "Requirement already satisfied: scikit-learn>=0.20.3 in /home/fadelfirmansyah/.local/lib/python3.8/site-packages (from mlxtend) (0.24.1)\n",
      "Requirement already satisfied: matplotlib>=3.0.0 in /home/fadelfirmansyah/.local/lib/python3.8/site-packages (from mlxtend) (3.4.1)\n",
      "Requirement already satisfied: pandas>=0.24.2 in /home/fadelfirmansyah/.local/lib/python3.8/site-packages (from mlxtend) (1.2.3)\n",
      "Requirement already satisfied: threadpoolctl>=2.0.0 in /home/fadelfirmansyah/.local/lib/python3.8/site-packages (from scikit-learn>=0.20.3->mlxtend) (2.1.0)\n",
      "Requirement already satisfied: cycler>=0.10 in /home/fadelfirmansyah/.local/lib/python3.8/site-packages (from matplotlib>=3.0.0->mlxtend) (0.10.0)\n",
      "Requirement already satisfied: pyparsing>=2.2.1 in /home/fadelfirmansyah/.local/lib/python3.8/site-packages (from matplotlib>=3.0.0->mlxtend) (2.4.7)\n",
      "Requirement already satisfied: kiwisolver>=1.0.1 in /home/fadelfirmansyah/.local/lib/python3.8/site-packages (from matplotlib>=3.0.0->mlxtend) (1.3.1)\n",
      "Requirement already satisfied: python-dateutil>=2.7 in /home/fadelfirmansyah/.local/lib/python3.8/site-packages (from matplotlib>=3.0.0->mlxtend) (2.8.1)\n",
      "Requirement already satisfied: pillow>=6.2.0 in /home/fadelfirmansyah/.local/lib/python3.8/site-packages (from matplotlib>=3.0.0->mlxtend) (8.2.0)\n",
      "Requirement already satisfied: pytz>=2017.3 in /usr/lib/python3/dist-packages (from pandas>=0.24.2->mlxtend) (2019.3)\n",
      "Requirement already satisfied: six in /usr/lib/python3/dist-packages (from cycler>=0.10->matplotlib>=3.0.0->mlxtend) (1.14.0)\n"
     ]
    }
   ],
   "source": [
    "!{sys.executable} -m pip install mlxtend"
   ]
  },
  {
   "cell_type": "code",
   "execution_count": 9,
   "id": "9d69a7f0-a2e8-486f-b204-6a713d5c87fc",
   "metadata": {},
   "outputs": [],
   "source": [
    "import numpy as np\n",
    "import matplotlib.pyplot as plt\n",
    "import pandas as pd"
   ]
  },
  {
   "cell_type": "code",
   "execution_count": 31,
   "id": "56fdfcef-8439-47e5-8584-39b98c120d43",
   "metadata": {},
   "outputs": [],
   "source": [
    "from mlxtend.preprocessing import TransactionEncoder\n",
    "from mlxtend.frequent_patterns import apriori, fpmax, fpgrowth\n",
    "from mlxtend.frequent_patterns import association_rules"
   ]
  },
  {
   "cell_type": "code",
   "execution_count": 59,
   "id": "1b2cb312-5b5c-4841-8767-d8d6f475dcfc",
   "metadata": {},
   "outputs": [],
   "source": [
    "df = pd.read_csv('./lumos1000.csv', header=None, dtype=None)"
   ]
  },
  {
   "cell_type": "code",
   "execution_count": 60,
   "id": "aeb48a7f-1375-4e07-8b80-594efedcf258",
   "metadata": {},
   "outputs": [],
   "source": [
    "df = df.replace(np.nan, '')"
   ]
  },
  {
   "cell_type": "code",
   "execution_count": 61,
   "id": "75817f17-aec3-4a2f-974b-02dcfa7fa410",
   "metadata": {},
   "outputs": [],
   "source": [
    "records = []\n",
    "for i in range(0, 1101):\n",
    "    records.append([str(df.values[i,j]) for j in range(0, 7)])"
   ]
  },
  {
   "cell_type": "code",
   "execution_count": 62,
   "id": "7d255ce2-15cc-4b52-85db-9b7b454f8291",
   "metadata": {},
   "outputs": [],
   "source": [
    "records = list(filter(None,[list(filter(None,l)) for l in records]))"
   ]
  },
  {
   "cell_type": "code",
   "execution_count": 63,
   "id": "243ebcbc-fca7-4279-a78f-034bbd597b69",
   "metadata": {},
   "outputs": [],
   "source": [
    "te = TransactionEncoder()"
   ]
  },
  {
   "cell_type": "code",
   "execution_count": 64,
   "id": "ef9ca0bf-756a-4bfe-89c5-f6e4e9fef515",
   "metadata": {},
   "outputs": [],
   "source": [
    "te_ary = te.fit(records).transform(records)"
   ]
  },
  {
   "cell_type": "code",
   "execution_count": 65,
   "id": "82fc6ea9-c1b0-454e-ae72-8418804e2c4f",
   "metadata": {},
   "outputs": [],
   "source": [
    "frame = pd.DataFrame(te_ary, columns=te.columns_)"
   ]
  },
  {
   "cell_type": "code",
   "execution_count": 78,
   "id": "f9a5d9b6-06e0-44f8-a7d1-1a2a7cf13120",
   "metadata": {},
   "outputs": [
    {
     "data": {
      "text/html": [
       "<div>\n",
       "<style scoped>\n",
       "    .dataframe tbody tr th:only-of-type {\n",
       "        vertical-align: middle;\n",
       "    }\n",
       "\n",
       "    .dataframe tbody tr th {\n",
       "        vertical-align: top;\n",
       "    }\n",
       "\n",
       "    .dataframe thead th {\n",
       "        text-align: right;\n",
       "    }\n",
       "</style>\n",
       "<table border=\"1\" class=\"dataframe\">\n",
       "  <thead>\n",
       "    <tr style=\"text-align: right;\">\n",
       "      <th></th>\n",
       "      <th>antecedents</th>\n",
       "      <th>consequents</th>\n",
       "      <th>antecedent support</th>\n",
       "      <th>consequent support</th>\n",
       "      <th>support</th>\n",
       "      <th>confidence</th>\n",
       "      <th>lift</th>\n",
       "      <th>leverage</th>\n",
       "      <th>conviction</th>\n",
       "    </tr>\n",
       "  </thead>\n",
       "  <tbody>\n",
       "    <tr>\n",
       "      <th>0</th>\n",
       "      <td>(ESPRESSO)</td>\n",
       "      <td>(LUMOS KOPI SUSU SIGNATURE)</td>\n",
       "      <td>0.012716</td>\n",
       "      <td>0.516803</td>\n",
       "      <td>0.009083</td>\n",
       "      <td>0.714286</td>\n",
       "      <td>1.382124</td>\n",
       "      <td>0.002511</td>\n",
       "      <td>1.691190</td>\n",
       "    </tr>\n",
       "    <tr>\n",
       "      <th>1</th>\n",
       "      <td>(OKINAWA BROWN SUGAR BOBA MILK)</td>\n",
       "      <td>(LUMOS KOPI SUSU SIGNATURE)</td>\n",
       "      <td>0.029973</td>\n",
       "      <td>0.516803</td>\n",
       "      <td>0.014532</td>\n",
       "      <td>0.484848</td>\n",
       "      <td>0.938169</td>\n",
       "      <td>-0.000958</td>\n",
       "      <td>0.937971</td>\n",
       "    </tr>\n",
       "  </tbody>\n",
       "</table>\n",
       "</div>"
      ],
      "text/plain": [
       "                       antecedents                  consequents  \\\n",
       "0                       (ESPRESSO)  (LUMOS KOPI SUSU SIGNATURE)   \n",
       "1  (OKINAWA BROWN SUGAR BOBA MILK)  (LUMOS KOPI SUSU SIGNATURE)   \n",
       "\n",
       "   antecedent support  consequent support   support  confidence      lift  \\\n",
       "0            0.012716            0.516803  0.009083    0.714286  1.382124   \n",
       "1            0.029973            0.516803  0.014532    0.484848  0.938169   \n",
       "\n",
       "   leverage  conviction  \n",
       "0  0.002511    1.691190  \n",
       "1 -0.000958    0.937971  "
      ]
     },
     "execution_count": 78,
     "metadata": {},
     "output_type": "execute_result"
    }
   ],
   "source": [
    "item = apriori(frame, min_support=0.0090, use_colnames=True)\n",
    "association_rules(item, metric=\"confidence\", min_threshold=0.475)"
   ]
  },
  {
   "cell_type": "code",
   "execution_count": null,
   "id": "cc5dec40-03fe-4c4c-8467-3183c6239137",
   "metadata": {},
   "outputs": [],
   "source": []
  }
 ],
 "metadata": {
  "kernelspec": {
   "display_name": "Python 3",
   "language": "python",
   "name": "python3"
  },
  "language_info": {
   "codemirror_mode": {
    "name": "ipython",
    "version": 3
   },
   "file_extension": ".py",
   "mimetype": "text/x-python",
   "name": "python",
   "nbconvert_exporter": "python",
   "pygments_lexer": "ipython3",
   "version": "3.8.5"
  }
 },
 "nbformat": 4,
 "nbformat_minor": 5
}
